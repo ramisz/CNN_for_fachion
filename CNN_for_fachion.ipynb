{
  "nbformat": 4,
  "nbformat_minor": 0,
  "metadata": {
    "colab": {
      "provenance": [],
      "gpuType": "T4",
      "authorship_tag": "ABX9TyOpYBBbYNYeuXKQHXNgDp0j",
      "include_colab_link": true
    },
    "kernelspec": {
      "name": "python3",
      "display_name": "Python 3"
    },
    "language_info": {
      "name": "python"
    },
    "accelerator": "GPU"
  },
  "cells": [
    {
      "cell_type": "markdown",
      "metadata": {
        "id": "view-in-github",
        "colab_type": "text"
      },
      "source": [
        "<a href=\"https://colab.research.google.com/github/Mario-bro777/ds/blob/main/CNN_for_FachionMNIST_ipynb%22.ipynb\" target=\"_parent\"><img src=\"https://colab.research.google.com/assets/colab-badge.svg\" alt=\"Open In Colab\"/></a>"
      ]
    },
    {
      "cell_type": "code",
      "execution_count": null,
      "metadata": {
        "id": "z_PmfMPypMMe"
      },
      "outputs": [],
      "source": [
        "import torch\n",
        "from torch import nn\n",
        "import torchvision as tv\n",
        "import time\n",
        "import matplotlib.pyplot as plt"
      ]
    },
    {
      "cell_type": "code",
      "source": [
        "BATCH_SIZE = 256"
      ],
      "metadata": {
        "id": "vvzvdoHTsp7b"
      },
      "execution_count": null,
      "outputs": []
    },
    {
      "cell_type": "code",
      "source": [
        "transforms = tv.transforms.Compose([\n",
        "    tv.transforms.Resize(32),\n",
        "    tv.transforms.ToTensor()\n",
        "])"
      ],
      "metadata": {
        "id": "adctXd_xsuvU"
      },
      "execution_count": null,
      "outputs": []
    },
    {
      "cell_type": "code",
      "source": [
        "train_dataset = tv.datasets.FashionMNIST('.',\n",
        "                                  train=True,\n",
        "                                  transform=transforms,\n",
        "                                  download=True)\n",
        "\n",
        "test_dataset = tv.datasets.FashionMNIST('.',\n",
        "                                 train=False,\n",
        "                                 transform=transforms,\n",
        "                                 download=True)\n",
        "\n",
        "train_iter = torch.utils.data.DataLoader(train_dataset, batch_size=BATCH_SIZE)\n",
        "test_iter = torch.utils.data.DataLoader(test_dataset, batch_size=BATCH_SIZE)"
      ],
      "metadata": {
        "colab": {
          "base_uri": "https://localhost:8080/"
        },
        "id": "pbNFltH_szvy",
        "outputId": "3275dcbc-5ddf-4fae-b80a-5a1da608be1e"
      },
      "execution_count": null,
      "outputs": [
        {
          "output_type": "stream",
          "name": "stderr",
          "text": [
            "100%|██████████| 26.4M/26.4M [00:00<00:00, 113MB/s]\n",
            "100%|██████████| 29.5k/29.5k [00:00<00:00, 4.01MB/s]\n",
            "100%|██████████| 4.42M/4.42M [00:00<00:00, 51.7MB/s]\n",
            "100%|██████████| 5.15k/5.15k [00:00<00:00, 10.5MB/s]\n"
          ]
        }
      ]
    },
    {
      "cell_type": "code",
      "source": [
        "fig, axs = plt.subplots(1,5)\n",
        "for i in range(5):\n",
        "  axs[i].imshow(train_dataset[i][0].numpy().reshape(32,32), cmap='gray');"
      ],
      "metadata": {
        "colab": {
          "base_uri": "https://localhost:8080/",
          "height": 150
        },
        "id": "y4gH6Bg-tDeP",
        "outputId": "e6cd3d0a-948c-4a02-db30-e292e09f76a8"
      },
      "execution_count": null,
      "outputs": [
        {
          "output_type": "display_data",
          "data": {
            "text/plain": [
              "<Figure size 640x480 with 5 Axes>"
            ],
            "image/png": "[encoded data removed]"
          },
          "metadata": {}
        }
      ]
    },
    {
      "cell_type": "code",
      "source": [
        "device = \"cuda\" if torch.cuda.is_available() else \"cpu\"\n",
        "device"
      ],
      "metadata": {
        "colab": {
          "base_uri": "https://localhost:8080/",
          "height": 35
        },
        "id": "DEGu1CAJthJU",
        "outputId": "f26e8cb5-1ec3-4468-959b-35121e276080"
      },
      "execution_count": null,
      "outputs": [
        {
          "output_type": "execute_result",
          "data": {
            "text/plain": [
              "'cuda'"
            ],
            "application/vnd.google.colaboratory.intrinsic+json": {
              "type": "string"
            }
          },
          "metadata": {},
          "execution_count": 10
        }
      ]
    },
    {
      "cell_type": "code",
      "source": [
        "model = nn.Sequential(\n",
        "    nn.Conv2d(1, 6, kernel_size=5, padding=0),\n",
        "    nn.Tanh(),\n",
        "    nn.AvgPool2d(2, stride=2),\n",
        "    nn.Conv2d(6, 16, kernel_size=5),\n",
        "    nn.Tanh(),\n",
        "    nn.AvgPool2d(2, stride=2),\n",
        "    nn.Conv2d(16, 120, kernel_size=5),\n",
        "    nn.Flatten(),\n",
        "    nn.Linear(120, 84),\n",
        "    nn.Tanh(),\n",
        "    nn.Linear(84, 10)\n",
        ")"
      ],
      "metadata": {
        "id": "_AY8GtFctHey"
      },
      "execution_count": null,
      "outputs": []
    },
    {
      "cell_type": "code",
      "source": [
        "model = model.to(device)"
      ],
      "metadata": {
        "id": "fVAOEMYitlpT"
      },
      "execution_count": null,
      "outputs": []
    },
    {
      "cell_type": "code",
      "source": [
        "def evaluate_accuracy(data_iter, net, device):\n",
        "    acc_sum, n = torch.Tensor([0]).to(device), 0\n",
        "    for X, y in data_iter:\n",
        "        X, y = X.to(device), y.to(device)\n",
        "        acc_sum += (net(X).argmax(axis=1) == y).sum()\n",
        "        n += y.shape[0]\n",
        "    return acc_sum.item() / n"
      ],
      "metadata": {
        "id": "-Va8tZL3tXNC"
      },
      "execution_count": null,
      "outputs": []
    },
    {
      "cell_type": "code",
      "source": [
        "def train(net, train_iter, test_iter, optimizer, num_epochs, device):\n",
        "    loss = nn.CrossEntropyLoss()\n",
        "\n",
        "    for epoch in range(num_epochs):\n",
        "        train_l_sum, train_acc_sum, n, start = 0.0, 0.0, 0, time.time()\n",
        "\n",
        "        for X, y in train_iter:\n",
        "            X, y = X.to(device), y.to(device)\n",
        "            optimizer.zero_grad()\n",
        "            y_hat = net(X)\n",
        "            l = loss(y_hat, y)\n",
        "            l.backward()\n",
        "            optimizer.step()\n",
        "            train_l_sum += l.item()\n",
        "            train_acc_sum += (y_hat.argmax(axis=1) == y).sum().item()\n",
        "            n += y.shape[0]\n",
        "\n",
        "        test_acc = evaluate_accuracy(test_iter, net, device)\n",
        "        print(f'epoch {epoch + 1}, loss {train_l_sum / n:.4f}, train acc {train_acc_sum / n:.3f}' \\\n",
        "              f', test acc {test_acc:.3f}, time {time.time() - start:.1f} sec')"
      ],
      "metadata": {
        "id": "tHd_NdgTtaX_"
      },
      "execution_count": null,
      "outputs": []
    },
    {
      "cell_type": "code",
      "source": [
        "lr, num_epochs = 0.001, 30\n",
        "trainer = torch.optim.SGD(model.parameters(), lr=lr)\n",
        "train(model, train_iter, test_iter, trainer, num_epochs, device)"
      ],
      "metadata": {
        "colab": {
          "base_uri": "https://localhost:8080/"
        },
        "id": "-sx1hyFLtzAP",
        "outputId": "39b7ea43-c580-41a9-8673-1c6e0e8c55f1"
      },
      "execution_count": null,
      "outputs": [
        {
          "output_type": "stream",
          "name": "stdout",
          "text": [
            "epoch 1, loss 0.0090, train acc 0.094, test acc 0.118, time 13.1 sec\n",
            "epoch 2, loss 0.0090, train acc 0.167, test acc 0.215, time 11.0 sec\n",
            "epoch 3, loss 0.0089, train acc 0.212, test acc 0.213, time 11.1 sec\n",
            "epoch 4, loss 0.0089, train acc 0.207, test acc 0.211, time 11.2 sec\n",
            "epoch 5, loss 0.0088, train acc 0.220, test acc 0.220, time 11.0 sec\n",
            "epoch 6, loss 0.0087, train acc 0.229, test acc 0.227, time 10.7 sec\n",
            "epoch 7, loss 0.0087, train acc 0.241, test acc 0.243, time 11.2 sec\n",
            "epoch 8, loss 0.0085, train acc 0.257, test acc 0.262, time 11.2 sec\n",
            "epoch 9, loss 0.0084, train acc 0.277, test acc 0.289, time 11.2 sec\n",
            "epoch 10, loss 0.0081, train acc 0.313, test acc 0.336, time 11.5 sec\n",
            "epoch 11, loss 0.0078, train acc 0.381, test acc 0.425, time 11.2 sec\n",
            "epoch 12, loss 0.0074, train acc 0.476, test acc 0.511, time 11.2 sec\n",
            "epoch 13, loss 0.0070, train acc 0.529, test acc 0.528, time 11.2 sec\n",
            "epoch 14, loss 0.0065, train acc 0.529, test acc 0.520, time 11.1 sec\n",
            "epoch 15, loss 0.0061, train acc 0.521, test acc 0.518, time 11.1 sec\n",
            "epoch 16, loss 0.0058, train acc 0.518, test acc 0.521, time 11.6 sec\n",
            "epoch 17, loss 0.0055, train acc 0.524, test acc 0.529, time 11.4 sec\n",
            "epoch 18, loss 0.0053, train acc 0.534, test acc 0.537, time 10.9 sec\n",
            "epoch 19, loss 0.0051, train acc 0.549, test acc 0.556, time 11.2 sec\n",
            "epoch 20, loss 0.0050, train acc 0.568, test acc 0.577, time 11.2 sec\n",
            "epoch 21, loss 0.0049, train acc 0.587, test acc 0.590, time 11.2 sec\n",
            "epoch 22, loss 0.0047, train acc 0.595, test acc 0.593, time 13.2 sec\n",
            "epoch 23, loss 0.0047, train acc 0.600, test acc 0.596, time 12.4 sec\n",
            "epoch 24, loss 0.0046, train acc 0.602, test acc 0.599, time 11.0 sec\n",
            "epoch 25, loss 0.0045, train acc 0.604, test acc 0.602, time 11.0 sec\n",
            "epoch 26, loss 0.0044, train acc 0.607, test acc 0.605, time 11.0 sec\n",
            "epoch 27, loss 0.0044, train acc 0.610, test acc 0.608, time 11.0 sec\n",
            "epoch 28, loss 0.0043, train acc 0.613, test acc 0.611, time 11.1 sec\n",
            "epoch 29, loss 0.0042, train acc 0.617, test acc 0.615, time 11.1 sec\n",
            "epoch 30, loss 0.0042, train acc 0.621, test acc 0.619, time 11.0 sec\n"
          ]
        }
      ]
    },
    {
      "cell_type": "code",
      "source": [
        "trainer = torch.optim.SGD(model.parameters(), lr=0.01)\n",
        "train(model, train_iter, test_iter, trainer, num_epochs, device)"
      ],
      "metadata": {
        "colab": {
          "base_uri": "https://localhost:8080/"
        },
        "id": "3rd9906UvDfS",
        "outputId": "97ed5902-2e97-4773-8b42-050c7a5bc4e7"
      },
      "execution_count": null,
      "outputs": [
        {
          "output_type": "stream",
          "name": "stdout",
          "text": [
            "epoch 1, loss 0.0031, train acc 0.715, test acc 0.718, time 11.1 sec\n",
            "epoch 2, loss 0.0030, train acc 0.725, test acc 0.725, time 11.3 sec\n",
            "epoch 3, loss 0.0028, train acc 0.733, test acc 0.730, time 11.3 sec\n",
            "epoch 4, loss 0.0027, train acc 0.738, test acc 0.735, time 11.3 sec\n",
            "epoch 5, loss 0.0027, train acc 0.744, test acc 0.740, time 11.1 sec\n",
            "epoch 6, loss 0.0026, train acc 0.749, test acc 0.746, time 10.6 sec\n",
            "epoch 7, loss 0.0025, train acc 0.755, test acc 0.751, time 10.9 sec\n",
            "epoch 8, loss 0.0025, train acc 0.760, test acc 0.755, time 11.0 sec\n",
            "epoch 9, loss 0.0024, train acc 0.766, test acc 0.759, time 11.1 sec\n",
            "epoch 10, loss 0.0024, train acc 0.770, test acc 0.764, time 11.0 sec\n",
            "epoch 11, loss 0.0023, train acc 0.775, test acc 0.767, time 11.1 sec\n",
            "epoch 12, loss 0.0023, train acc 0.780, test acc 0.771, time 11.2 sec\n",
            "epoch 13, loss 0.0022, train acc 0.784, test acc 0.775, time 11.1 sec\n",
            "epoch 14, loss 0.0022, train acc 0.788, test acc 0.778, time 11.1 sec\n",
            "epoch 15, loss 0.0022, train acc 0.791, test acc 0.782, time 11.1 sec\n",
            "epoch 16, loss 0.0021, train acc 0.794, test acc 0.786, time 11.1 sec\n",
            "epoch 17, loss 0.0021, train acc 0.797, test acc 0.789, time 10.8 sec\n",
            "epoch 18, loss 0.0021, train acc 0.800, test acc 0.791, time 10.8 sec\n",
            "epoch 19, loss 0.0021, train acc 0.802, test acc 0.793, time 11.0 sec\n",
            "epoch 20, loss 0.0020, train acc 0.805, test acc 0.796, time 11.2 sec\n",
            "epoch 21, loss 0.0020, train acc 0.808, test acc 0.799, time 11.4 sec\n",
            "epoch 22, loss 0.0020, train acc 0.811, test acc 0.801, time 11.2 sec\n",
            "epoch 23, loss 0.0020, train acc 0.813, test acc 0.804, time 11.3 sec\n",
            "epoch 24, loss 0.0020, train acc 0.815, test acc 0.805, time 11.1 sec\n",
            "epoch 25, loss 0.0019, train acc 0.818, test acc 0.808, time 11.0 sec\n",
            "epoch 26, loss 0.0019, train acc 0.820, test acc 0.810, time 11.0 sec\n",
            "epoch 27, loss 0.0019, train acc 0.822, test acc 0.813, time 11.1 sec\n",
            "epoch 28, loss 0.0019, train acc 0.824, test acc 0.815, time 11.4 sec\n",
            "epoch 29, loss 0.0019, train acc 0.826, test acc 0.817, time 10.8 sec\n",
            "epoch 30, loss 0.0018, train acc 0.828, test acc 0.818, time 10.7 sec\n"
          ]
        }
      ]
    }
  ]
}
